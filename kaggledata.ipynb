{
 "cells": [
  {
   "cell_type": "markdown",
   "metadata": {},
   "source": [
    "### Getting Spotify Data From Kaggle"
   ]
  },
  {
   "cell_type": "code",
   "execution_count": null,
   "metadata": {},
   "outputs": [
    {
     "name": "stderr",
     "output_type": "stream",
     "text": [
      "\u001b[32m\u001b[1m    Updating\u001b[22m\u001b[39m registry at `C:\\Users\\User\\.julia\\registries\\General.toml`\n",
      "\u001b[32m\u001b[1m   Resolving\u001b[22m\u001b[39m package versions...\n",
      "\u001b[32m\u001b[1m  No Changes\u001b[22m\u001b[39m to `C:\\Users\\User\\.julia\\environments\\v1.10\\Project.toml`\n",
      "\u001b[32m\u001b[1m  No Changes\u001b[22m\u001b[39m to `C:\\Users\\User\\.julia\\environments\\v1.10\\Manifest.toml`\n",
      "\u001b[32m\u001b[1m   Resolving\u001b[22m\u001b[39m package versions...\n",
      "\u001b[32m\u001b[1m  No Changes\u001b[22m\u001b[39m to `C:\\Users\\User\\.julia\\environments\\v1.10\\Project.toml`\n",
      "\u001b[32m\u001b[1m  No Changes\u001b[22m\u001b[39m to `C:\\Users\\User\\.julia\\environments\\v1.10\\Manifest.toml`\n"
     ]
    }
   ],
   "source": [
    "using Pkg\n",
    "Pkg.add(\"CSV\")\n",
    "Pkg.add(\"DataFrames\")\n",
    "Pkg.add(\"StatsPlots\")"
   ]
  },
  {
   "cell_type": "markdown",
   "metadata": {},
   "source": [
    "## Understanding the Data"
   ]
  },
  {
   "cell_type": "code",
   "execution_count": 32,
   "metadata": {},
   "outputs": [],
   "source": [
    "\n",
    "using CSV\n",
    "using DataFrames"
   ]
  },
  {
   "cell_type": "code",
   "execution_count": 33,
   "metadata": {},
   "outputs": [
    {
     "data": {
      "text/html": [
       "<div><div style = \"float: left;\"><span>32833×23 DataFrame</span></div><div style = \"float: right;\"><span style = \"font-style: italic;\">32808 rows omitted</span></div><div style = \"clear: both;\"></div></div><div class = \"data-frame\" style = \"overflow-x: scroll;\"><table class = \"data-frame\" style = \"margin-bottom: 6px;\"><thead><tr class = \"header\"><th class = \"rowNumber\" style = \"font-weight: bold; text-align: right;\">Row</th><th style = \"text-align: left;\">track_id</th><th style = \"text-align: left;\">track_name</th><th style = \"text-align: left;\">track_artist</th><th style = \"text-align: left;\">track_popularity</th><th style = \"text-align: left;\">track_album_id</th><th style = \"text-align: left;\">track_album_name</th><th style = \"text-align: left;\">track_album_release_date</th><th style = \"text-align: left;\">playlist_name</th><th style = \"text-align: left;\">playlist_id</th><th style = \"text-align: left;\">playlist_genre</th><th style = \"text-align: left;\">playlist_subgenre</th><th style = \"text-align: left;\">danceability</th><th style = \"text-align: left;\">energy</th><th style = \"text-align: left;\">key</th><th style = \"text-align: left;\">loudness</th><th style = \"text-align: left;\">mode</th><th style = \"text-align: left;\">speechiness</th><th style = \"text-align: left;\">acousticness</th><th style = \"text-align: left;\">instrumentalness</th><th style = \"text-align: left;\">liveness</th><th style = \"text-align: left;\">valence</th><th style = \"text-align: left;\">tempo</th><th style = \"text-align: left;\">duration_ms</th></tr><tr class = \"subheader headerLastRow\"><th class = \"rowNumber\" style = \"font-weight: bold; text-align: right;\"></th><th title = \"String31\" style = \"text-align: left;\">String31</th><th title = \"String\" style = \"text-align: left;\">String</th><th title = \"String\" style = \"text-align: left;\">String</th><th title = \"Int64\" style = \"text-align: left;\">Int64</th><th title = \"String31\" style = \"text-align: left;\">String31</th><th title = \"String\" style = \"text-align: left;\">String</th><th title = \"Dates.Date\" style = \"text-align: left;\">Date</th><th title = \"String\" style = \"text-align: left;\">String</th><th title = \"String31\" style = \"text-align: left;\">String31</th><th title = \"String7\" style = \"text-align: left;\">String7</th><th title = \"String31\" style = \"text-align: left;\">String31</th><th title = \"Float64\" style = \"text-align: left;\">Float64</th><th title = \"Float64\" style = \"text-align: left;\">Float64</th><th title = \"Int64\" style = \"text-align: left;\">Int64</th><th title = \"Float64\" style = \"text-align: left;\">Float64</th><th title = \"Int64\" style = \"text-align: left;\">Int64</th><th title = \"Float64\" style = \"text-align: left;\">Float64</th><th title = \"Float64\" style = \"text-align: left;\">Float64</th><th title = \"Float64\" style = \"text-align: left;\">Float64</th><th title = \"Float64\" style = \"text-align: left;\">Float64</th><th title = \"Float64\" style = \"text-align: left;\">Float64</th><th title = \"Float64\" style = \"text-align: left;\">Float64</th><th title = \"Int64\" style = \"text-align: left;\">Int64</th></tr></thead><tbody><tr><td class = \"rowNumber\" style = \"font-weight: bold; text-align: right;\">1</td><td style = \"text-align: left;\">6f807x0ima9a1j3VPbc7VN</td><td style = \"text-align: left;\">I Don&apos;t Care (with Justin Bieber) - Loud Luxury Remix</td><td style = \"text-align: left;\">Ed Sheeran</td><td style = \"text-align: right;\">66</td><td style = \"text-align: left;\">2oCs0DGTsRO98Gh5ZSl2Cx</td><td style = \"text-align: left;\">I Don&apos;t Care (with Justin Bieber) [Loud Luxury Remix]</td><td style = \"text-align: left;\">2019-06-14</td><td style = \"text-align: left;\">Pop Remix</td><td style = \"text-align: left;\">37i9dQZF1DXcZDD7cfEKhW</td><td style = \"text-align: left;\">pop</td><td style = \"text-align: left;\">dance pop</td><td style = \"text-align: right;\">0.748</td><td style = \"text-align: right;\">0.916</td><td style = \"text-align: right;\">6</td><td style = \"text-align: right;\">-2.634</td><td style = \"text-align: right;\">1</td><td style = \"text-align: right;\">0.0583</td><td style = \"text-align: right;\">0.102</td><td style = \"text-align: right;\">0.0</td><td style = \"text-align: right;\">0.0653</td><td style = \"text-align: right;\">0.518</td><td style = \"text-align: right;\">122.036</td><td style = \"text-align: right;\">194754</td></tr><tr><td class = \"rowNumber\" style = \"font-weight: bold; text-align: right;\">2</td><td style = \"text-align: left;\">0r7CVbZTWZgbTCYdfa2P31</td><td style = \"text-align: left;\">Memories - Dillon Francis Remix</td><td style = \"text-align: left;\">Maroon 5</td><td style = \"text-align: right;\">67</td><td style = \"text-align: left;\">63rPSO264uRjW1X5E6cWv6</td><td style = \"text-align: left;\">Memories (Dillon Francis Remix)</td><td style = \"text-align: left;\">2019-12-13</td><td style = \"text-align: left;\">Pop Remix</td><td style = \"text-align: left;\">37i9dQZF1DXcZDD7cfEKhW</td><td style = \"text-align: left;\">pop</td><td style = \"text-align: left;\">dance pop</td><td style = \"text-align: right;\">0.726</td><td style = \"text-align: right;\">0.815</td><td style = \"text-align: right;\">11</td><td style = \"text-align: right;\">-4.969</td><td style = \"text-align: right;\">1</td><td style = \"text-align: right;\">0.0373</td><td style = \"text-align: right;\">0.0724</td><td style = \"text-align: right;\">0.00421</td><td style = \"text-align: right;\">0.357</td><td style = \"text-align: right;\">0.693</td><td style = \"text-align: right;\">99.972</td><td style = \"text-align: right;\">162600</td></tr><tr><td class = \"rowNumber\" style = \"font-weight: bold; text-align: right;\">3</td><td style = \"text-align: left;\">1z1Hg7Vb0AhHDiEmnDE79l</td><td style = \"text-align: left;\">All the Time - Don Diablo Remix</td><td style = \"text-align: left;\">Zara Larsson</td><td style = \"text-align: right;\">70</td><td style = \"text-align: left;\">1HoSmj2eLcsrR0vE9gThr4</td><td style = \"text-align: left;\">All the Time (Don Diablo Remix)</td><td style = \"text-align: left;\">2019-07-05</td><td style = \"text-align: left;\">Pop Remix</td><td style = \"text-align: left;\">37i9dQZF1DXcZDD7cfEKhW</td><td style = \"text-align: left;\">pop</td><td style = \"text-align: left;\">dance pop</td><td style = \"text-align: right;\">0.675</td><td style = \"text-align: right;\">0.931</td><td style = \"text-align: right;\">1</td><td style = \"text-align: right;\">-3.432</td><td style = \"text-align: right;\">0</td><td style = \"text-align: right;\">0.0742</td><td style = \"text-align: right;\">0.0794</td><td style = \"text-align: right;\">2.33e-5</td><td style = \"text-align: right;\">0.11</td><td style = \"text-align: right;\">0.613</td><td style = \"text-align: right;\">124.008</td><td style = \"text-align: right;\">176616</td></tr><tr><td class = \"rowNumber\" style = \"font-weight: bold; text-align: right;\">4</td><td style = \"text-align: left;\">75FpbthrwQmzHlBJLuGdC7</td><td style = \"text-align: left;\">Call You Mine - Keanu Silva Remix</td><td style = \"text-align: left;\">The Chainsmokers</td><td style = \"text-align: right;\">60</td><td style = \"text-align: left;\">1nqYsOef1yKKuGOVchbsk6</td><td style = \"text-align: left;\">Call You Mine - The Remixes</td><td style = \"text-align: left;\">2019-07-19</td><td style = \"text-align: left;\">Pop Remix</td><td style = \"text-align: left;\">37i9dQZF1DXcZDD7cfEKhW</td><td style = \"text-align: left;\">pop</td><td style = \"text-align: left;\">dance pop</td><td style = \"text-align: right;\">0.718</td><td style = \"text-align: right;\">0.93</td><td style = \"text-align: right;\">7</td><td style = \"text-align: right;\">-3.778</td><td style = \"text-align: right;\">1</td><td style = \"text-align: right;\">0.102</td><td style = \"text-align: right;\">0.0287</td><td style = \"text-align: right;\">9.43e-6</td><td style = \"text-align: right;\">0.204</td><td style = \"text-align: right;\">0.277</td><td style = \"text-align: right;\">121.956</td><td style = \"text-align: right;\">169093</td></tr><tr><td class = \"rowNumber\" style = \"font-weight: bold; text-align: right;\">5</td><td style = \"text-align: left;\">1e8PAfcKUYoKkxPhrHqw4x</td><td style = \"text-align: left;\">Someone You Loved - Future Humans Remix</td><td style = \"text-align: left;\">Lewis Capaldi</td><td style = \"text-align: right;\">69</td><td style = \"text-align: left;\">7m7vv9wlQ4i0LFuJiE2zsQ</td><td style = \"text-align: left;\">Someone You Loved (Future Humans Remix)</td><td style = \"text-align: left;\">2019-03-05</td><td style = \"text-align: left;\">Pop Remix</td><td style = \"text-align: left;\">37i9dQZF1DXcZDD7cfEKhW</td><td style = \"text-align: left;\">pop</td><td style = \"text-align: left;\">dance pop</td><td style = \"text-align: right;\">0.65</td><td style = \"text-align: right;\">0.833</td><td style = \"text-align: right;\">1</td><td style = \"text-align: right;\">-4.672</td><td style = \"text-align: right;\">1</td><td style = \"text-align: right;\">0.0359</td><td style = \"text-align: right;\">0.0803</td><td style = \"text-align: right;\">0.0</td><td style = \"text-align: right;\">0.0833</td><td style = \"text-align: right;\">0.725</td><td style = \"text-align: right;\">123.976</td><td style = \"text-align: right;\">189052</td></tr><tr><td class = \"rowNumber\" style = \"font-weight: bold; text-align: right;\">6</td><td style = \"text-align: left;\">7fvUMiyapMsRRxr07cU8Ef</td><td style = \"text-align: left;\">Beautiful People (feat. Khalid) - Jack Wins Remix</td><td style = \"text-align: left;\">Ed Sheeran</td><td style = \"text-align: right;\">67</td><td style = \"text-align: left;\">2yiy9cd2QktrNvWC2EUi0k</td><td style = \"text-align: left;\">Beautiful People (feat. Khalid) [Jack Wins Remix]</td><td style = \"text-align: left;\">2019-07-11</td><td style = \"text-align: left;\">Pop Remix</td><td style = \"text-align: left;\">37i9dQZF1DXcZDD7cfEKhW</td><td style = \"text-align: left;\">pop</td><td style = \"text-align: left;\">dance pop</td><td style = \"text-align: right;\">0.675</td><td style = \"text-align: right;\">0.919</td><td style = \"text-align: right;\">8</td><td style = \"text-align: right;\">-5.385</td><td style = \"text-align: right;\">1</td><td style = \"text-align: right;\">0.127</td><td style = \"text-align: right;\">0.0799</td><td style = \"text-align: right;\">0.0</td><td style = \"text-align: right;\">0.143</td><td style = \"text-align: right;\">0.585</td><td style = \"text-align: right;\">124.982</td><td style = \"text-align: right;\">163049</td></tr><tr><td class = \"rowNumber\" style = \"font-weight: bold; text-align: right;\">7</td><td style = \"text-align: left;\">2OAylPUDDfwRGfe0lYqlCQ</td><td style = \"text-align: left;\">Never Really Over - R3HAB Remix</td><td style = \"text-align: left;\">Katy Perry</td><td style = \"text-align: right;\">62</td><td style = \"text-align: left;\">7INHYSeusaFlyrHSNxm8qH</td><td style = \"text-align: left;\">Never Really Over (R3HAB Remix)</td><td style = \"text-align: left;\">2019-07-26</td><td style = \"text-align: left;\">Pop Remix</td><td style = \"text-align: left;\">37i9dQZF1DXcZDD7cfEKhW</td><td style = \"text-align: left;\">pop</td><td style = \"text-align: left;\">dance pop</td><td style = \"text-align: right;\">0.449</td><td style = \"text-align: right;\">0.856</td><td style = \"text-align: right;\">5</td><td style = \"text-align: right;\">-4.788</td><td style = \"text-align: right;\">0</td><td style = \"text-align: right;\">0.0623</td><td style = \"text-align: right;\">0.187</td><td style = \"text-align: right;\">0.0</td><td style = \"text-align: right;\">0.176</td><td style = \"text-align: right;\">0.152</td><td style = \"text-align: right;\">112.648</td><td style = \"text-align: right;\">187675</td></tr><tr><td class = \"rowNumber\" style = \"font-weight: bold; text-align: right;\">8</td><td style = \"text-align: left;\">6b1RNvAcJjQH73eZO4BLAB</td><td style = \"text-align: left;\">Post Malone (feat. RANI) - GATTÜSO Remix</td><td style = \"text-align: left;\">Sam Feldt</td><td style = \"text-align: right;\">69</td><td style = \"text-align: left;\">6703SRPsLkS4bPtMFFJes1</td><td style = \"text-align: left;\">Post Malone (feat. RANI) [GATTÜSO Remix]</td><td style = \"text-align: left;\">2019-08-29</td><td style = \"text-align: left;\">Pop Remix</td><td style = \"text-align: left;\">37i9dQZF1DXcZDD7cfEKhW</td><td style = \"text-align: left;\">pop</td><td style = \"text-align: left;\">dance pop</td><td style = \"text-align: right;\">0.542</td><td style = \"text-align: right;\">0.903</td><td style = \"text-align: right;\">4</td><td style = \"text-align: right;\">-2.419</td><td style = \"text-align: right;\">0</td><td style = \"text-align: right;\">0.0434</td><td style = \"text-align: right;\">0.0335</td><td style = \"text-align: right;\">4.83e-6</td><td style = \"text-align: right;\">0.111</td><td style = \"text-align: right;\">0.367</td><td style = \"text-align: right;\">127.936</td><td style = \"text-align: right;\">207619</td></tr><tr><td class = \"rowNumber\" style = \"font-weight: bold; text-align: right;\">9</td><td style = \"text-align: left;\">7bF6tCO3gFb8INrEDcjNT5</td><td style = \"text-align: left;\">Tough Love - Tiësto Remix / Radio Edit</td><td style = \"text-align: left;\">Avicii</td><td style = \"text-align: right;\">68</td><td style = \"text-align: left;\">7CvAfGvq4RlIwEbT9o8Iav</td><td style = \"text-align: left;\">Tough Love (Tiësto Remix)</td><td style = \"text-align: left;\">2019-06-14</td><td style = \"text-align: left;\">Pop Remix</td><td style = \"text-align: left;\">37i9dQZF1DXcZDD7cfEKhW</td><td style = \"text-align: left;\">pop</td><td style = \"text-align: left;\">dance pop</td><td style = \"text-align: right;\">0.594</td><td style = \"text-align: right;\">0.935</td><td style = \"text-align: right;\">8</td><td style = \"text-align: right;\">-3.562</td><td style = \"text-align: right;\">1</td><td style = \"text-align: right;\">0.0565</td><td style = \"text-align: right;\">0.0249</td><td style = \"text-align: right;\">3.97e-6</td><td style = \"text-align: right;\">0.637</td><td style = \"text-align: right;\">0.366</td><td style = \"text-align: right;\">127.015</td><td style = \"text-align: right;\">193187</td></tr><tr><td class = \"rowNumber\" style = \"font-weight: bold; text-align: right;\">10</td><td style = \"text-align: left;\">1IXGILkPm0tOCNeq00kCPa</td><td style = \"text-align: left;\">If I Can&apos;t Have You - Gryffin Remix</td><td style = \"text-align: left;\">Shawn Mendes</td><td style = \"text-align: right;\">67</td><td style = \"text-align: left;\">4QxzbfSsVryEQwvPFEV5Iu</td><td style = \"text-align: left;\">If I Can&apos;t Have You (Gryffin Remix)</td><td style = \"text-align: left;\">2019-06-20</td><td style = \"text-align: left;\">Pop Remix</td><td style = \"text-align: left;\">37i9dQZF1DXcZDD7cfEKhW</td><td style = \"text-align: left;\">pop</td><td style = \"text-align: left;\">dance pop</td><td style = \"text-align: right;\">0.642</td><td style = \"text-align: right;\">0.818</td><td style = \"text-align: right;\">2</td><td style = \"text-align: right;\">-4.552</td><td style = \"text-align: right;\">1</td><td style = \"text-align: right;\">0.032</td><td style = \"text-align: right;\">0.0567</td><td style = \"text-align: right;\">0.0</td><td style = \"text-align: right;\">0.0919</td><td style = \"text-align: right;\">0.59</td><td style = \"text-align: right;\">124.957</td><td style = \"text-align: right;\">253040</td></tr><tr><td class = \"rowNumber\" style = \"font-weight: bold; text-align: right;\">11</td><td style = \"text-align: left;\">3eFJI470ALf1EYjywPRsJy</td><td style = \"text-align: left;\">Cross Me (feat. Chance the Rapper &amp; PnB Rock) - M-22 Remix</td><td style = \"text-align: left;\">Ed Sheeran</td><td style = \"text-align: right;\">58</td><td style = \"text-align: left;\">49bXZtlI5kQSqQMSCnSaWO</td><td style = \"text-align: left;\">Cross Me (feat. Chance the Rapper &amp; PnB Rock) [M-22 Remix]</td><td style = \"text-align: left;\">2019-06-21</td><td style = \"text-align: left;\">Pop Remix</td><td style = \"text-align: left;\">37i9dQZF1DXcZDD7cfEKhW</td><td style = \"text-align: left;\">pop</td><td style = \"text-align: left;\">dance pop</td><td style = \"text-align: right;\">0.679</td><td style = \"text-align: right;\">0.923</td><td style = \"text-align: right;\">6</td><td style = \"text-align: right;\">-6.5</td><td style = \"text-align: right;\">1</td><td style = \"text-align: right;\">0.181</td><td style = \"text-align: right;\">0.146</td><td style = \"text-align: right;\">4.92e-6</td><td style = \"text-align: right;\">0.124</td><td style = \"text-align: right;\">0.752</td><td style = \"text-align: right;\">121.984</td><td style = \"text-align: right;\">207894</td></tr><tr><td class = \"rowNumber\" style = \"font-weight: bold; text-align: right;\">12</td><td style = \"text-align: left;\">3iJeF2izF1QcpCgUc97BLl</td><td style = \"text-align: left;\">Hate Me - R3HAB Remix</td><td style = \"text-align: left;\">Ellie Goulding</td><td style = \"text-align: right;\">67</td><td style = \"text-align: left;\">6e6RVFWdZaoTiLAZOCMnps</td><td style = \"text-align: left;\">Hate Me (R3HAB Remix)</td><td style = \"text-align: left;\">2019-08-16</td><td style = \"text-align: left;\">Pop Remix</td><td style = \"text-align: left;\">37i9dQZF1DXcZDD7cfEKhW</td><td style = \"text-align: left;\">pop</td><td style = \"text-align: left;\">dance pop</td><td style = \"text-align: right;\">0.437</td><td style = \"text-align: right;\">0.774</td><td style = \"text-align: right;\">8</td><td style = \"text-align: right;\">-4.918</td><td style = \"text-align: right;\">1</td><td style = \"text-align: right;\">0.0554</td><td style = \"text-align: right;\">0.148</td><td style = \"text-align: right;\">0.0</td><td style = \"text-align: right;\">0.133</td><td style = \"text-align: right;\">0.329</td><td style = \"text-align: right;\">123.125</td><td style = \"text-align: right;\">203733</td></tr><tr><td class = \"rowNumber\" style = \"font-weight: bold; text-align: right;\">13</td><td style = \"text-align: left;\">6e0CvGZf7CouOpYF8toXHC</td><td style = \"text-align: left;\">Body On My</td><td style = \"text-align: left;\">Loud Luxury</td><td style = \"text-align: right;\">67</td><td style = \"text-align: left;\">2R66I0nzp3NnuUlzIGWQ5P</td><td style = \"text-align: left;\">Body On My</td><td style = \"text-align: left;\">2019-03-29</td><td style = \"text-align: left;\">Pop Remix</td><td style = \"text-align: left;\">37i9dQZF1DXcZDD7cfEKhW</td><td style = \"text-align: left;\">pop</td><td style = \"text-align: left;\">dance pop</td><td style = \"text-align: right;\">0.744</td><td style = \"text-align: right;\">0.726</td><td style = \"text-align: right;\">1</td><td style = \"text-align: right;\">-4.675</td><td style = \"text-align: right;\">1</td><td style = \"text-align: right;\">0.0463</td><td style = \"text-align: right;\">0.0399</td><td style = \"text-align: right;\">0.0</td><td style = \"text-align: right;\">0.374</td><td style = \"text-align: right;\">0.687</td><td style = \"text-align: right;\">121.985</td><td style = \"text-align: right;\">192507</td></tr><tr><td style = \"text-align: right;\">&vellip;</td><td style = \"text-align: right;\">&vellip;</td><td style = \"text-align: right;\">&vellip;</td><td style = \"text-align: right;\">&vellip;</td><td style = \"text-align: right;\">&vellip;</td><td style = \"text-align: right;\">&vellip;</td><td style = \"text-align: right;\">&vellip;</td><td style = \"text-align: right;\">&vellip;</td><td style = \"text-align: right;\">&vellip;</td><td style = \"text-align: right;\">&vellip;</td><td style = \"text-align: right;\">&vellip;</td><td style = \"text-align: right;\">&vellip;</td><td style = \"text-align: right;\">&vellip;</td><td style = \"text-align: right;\">&vellip;</td><td style = \"text-align: right;\">&vellip;</td><td style = \"text-align: right;\">&vellip;</td><td style = \"text-align: right;\">&vellip;</td><td style = \"text-align: right;\">&vellip;</td><td style = \"text-align: right;\">&vellip;</td><td style = \"text-align: right;\">&vellip;</td><td style = \"text-align: right;\">&vellip;</td><td style = \"text-align: right;\">&vellip;</td><td style = \"text-align: right;\">&vellip;</td><td style = \"text-align: right;\">&vellip;</td></tr><tr><td class = \"rowNumber\" style = \"font-weight: bold; text-align: right;\">32822</td><td style = \"text-align: left;\">3fgNmvYq0QU5aFHDUMa4cm</td><td style = \"text-align: left;\">Unleash (Life In Color Anthem 2014) - Original Mix</td><td style = \"text-align: left;\">Adventure Club</td><td style = \"text-align: right;\">0</td><td style = \"text-align: left;\">4qzYTF7mwcWMbEFdw5qcHB</td><td style = \"text-align: left;\">Unleash</td><td style = \"text-align: left;\">2014-04-16</td><td style = \"text-align: left;\">♥ EDM LOVE 2020</td><td style = \"text-align: left;\">6jI1gFr6ANFtT8MmTvA2Ux</td><td style = \"text-align: left;\">edm</td><td style = \"text-align: left;\">progressive electro house</td><td style = \"text-align: right;\">0.701</td><td style = \"text-align: right;\">0.607</td><td style = \"text-align: right;\">1</td><td style = \"text-align: right;\">-4.514</td><td style = \"text-align: right;\">0</td><td style = \"text-align: right;\">0.0547</td><td style = \"text-align: right;\">0.00444</td><td style = \"text-align: right;\">4.09e-5</td><td style = \"text-align: right;\">0.0433</td><td style = \"text-align: right;\">0.342</td><td style = \"text-align: right;\">127.979</td><td style = \"text-align: right;\">331000</td></tr><tr><td class = \"rowNumber\" style = \"font-weight: bold; text-align: right;\">32823</td><td style = \"text-align: left;\">00UpV14MDfk4CvrMbFvqji</td><td style = \"text-align: left;\">It Won&apos;t Stop (feat. Chris Brown) - Julian Calor Remix</td><td style = \"text-align: left;\">Sevyn Streeter</td><td style = \"text-align: right;\">0</td><td style = \"text-align: left;\">52FeJmVsUJfoQybiwI5j9m</td><td style = \"text-align: left;\">Atlantic Records Miami 2014</td><td style = \"text-align: left;\">2014-04-01</td><td style = \"text-align: left;\">♥ EDM LOVE 2020</td><td style = \"text-align: left;\">6jI1gFr6ANFtT8MmTvA2Ux</td><td style = \"text-align: left;\">edm</td><td style = \"text-align: left;\">progressive electro house</td><td style = \"text-align: right;\">0.627</td><td style = \"text-align: right;\">0.832</td><td style = \"text-align: right;\">6</td><td style = \"text-align: right;\">-5.525</td><td style = \"text-align: right;\">0</td><td style = \"text-align: right;\">0.0478</td><td style = \"text-align: right;\">0.00939</td><td style = \"text-align: right;\">0.00305</td><td style = \"text-align: right;\">0.115</td><td style = \"text-align: right;\">0.216</td><td style = \"text-align: right;\">128.025</td><td style = \"text-align: right;\">298125</td></tr><tr><td class = \"rowNumber\" style = \"font-weight: bold; text-align: right;\">32824</td><td style = \"text-align: left;\">0coMLoVcagZPGF5zxc5RF8</td><td style = \"text-align: left;\">Everybody Is In The Place - Radio Edit</td><td style = \"text-align: left;\">Hardwell</td><td style = \"text-align: right;\">28</td><td style = \"text-align: left;\">1PdMbB6qgSzS9zcT9xP6Kx</td><td style = \"text-align: left;\">Everybody Is In The Place (Radio Edit)</td><td style = \"text-align: left;\">2014-04-18</td><td style = \"text-align: left;\">♥ EDM LOVE 2020</td><td style = \"text-align: left;\">6jI1gFr6ANFtT8MmTvA2Ux</td><td style = \"text-align: left;\">edm</td><td style = \"text-align: left;\">progressive electro house</td><td style = \"text-align: right;\">0.609</td><td style = \"text-align: right;\">0.989</td><td style = \"text-align: right;\">2</td><td style = \"text-align: right;\">-3.51</td><td style = \"text-align: right;\">1</td><td style = \"text-align: right;\">0.0867</td><td style = \"text-align: right;\">0.000434</td><td style = \"text-align: right;\">0.219</td><td style = \"text-align: right;\">0.0715</td><td style = \"text-align: right;\">0.0358</td><td style = \"text-align: right;\">130.046</td><td style = \"text-align: right;\">171697</td></tr><tr><td class = \"rowNumber\" style = \"font-weight: bold; text-align: right;\">32825</td><td style = \"text-align: left;\">3zKST4nk4QJE77oLjUZ0Ng</td><td style = \"text-align: left;\">Hey Brother</td><td style = \"text-align: left;\">Avicii</td><td style = \"text-align: right;\">20</td><td style = \"text-align: left;\">02h9kO2oLKnLtycgbElKsw</td><td style = \"text-align: left;\">True</td><td style = \"text-align: left;\">2013-01-01</td><td style = \"text-align: left;\">♥ EDM LOVE 2020</td><td style = \"text-align: left;\">6jI1gFr6ANFtT8MmTvA2Ux</td><td style = \"text-align: left;\">edm</td><td style = \"text-align: left;\">progressive electro house</td><td style = \"text-align: right;\">0.545</td><td style = \"text-align: right;\">0.78</td><td style = \"text-align: right;\">7</td><td style = \"text-align: right;\">-4.867</td><td style = \"text-align: right;\">0</td><td style = \"text-align: right;\">0.0436</td><td style = \"text-align: right;\">0.0309</td><td style = \"text-align: right;\">4.64e-5</td><td style = \"text-align: right;\">0.0828</td><td style = \"text-align: right;\">0.458</td><td style = \"text-align: right;\">125.014</td><td style = \"text-align: right;\">255093</td></tr><tr><td class = \"rowNumber\" style = \"font-weight: bold; text-align: right;\">32826</td><td style = \"text-align: left;\">2EpS5TgdngSISM63rhBsnK</td><td style = \"text-align: left;\">Booyah - Radio Edit</td><td style = \"text-align: left;\">Showtek</td><td style = \"text-align: right;\">47</td><td style = \"text-align: left;\">0Dix8CfvtZEHUyJGnmPnaB</td><td style = \"text-align: left;\">Booyah</td><td style = \"text-align: left;\">2013-01-01</td><td style = \"text-align: left;\">♥ EDM LOVE 2020</td><td style = \"text-align: left;\">6jI1gFr6ANFtT8MmTvA2Ux</td><td style = \"text-align: left;\">edm</td><td style = \"text-align: left;\">progressive electro house</td><td style = \"text-align: right;\">0.559</td><td style = \"text-align: right;\">0.916</td><td style = \"text-align: right;\">11</td><td style = \"text-align: right;\">-3.05</td><td style = \"text-align: right;\">1</td><td style = \"text-align: right;\">0.0626</td><td style = \"text-align: right;\">0.0453</td><td style = \"text-align: right;\">1.26e-5</td><td style = \"text-align: right;\">0.225</td><td style = \"text-align: right;\">0.195</td><td style = \"text-align: right;\">128.012</td><td style = \"text-align: right;\">215295</td></tr><tr><td class = \"rowNumber\" style = \"font-weight: bold; text-align: right;\">32827</td><td style = \"text-align: left;\">1EavLSmwRWtmkKEmlCfFzT</td><td style = \"text-align: left;\">Wasted</td><td style = \"text-align: left;\">Tiësto</td><td style = \"text-align: right;\">47</td><td style = \"text-align: left;\">584m4QL0kmpG69zSpMKvv8</td><td style = \"text-align: left;\">Wasted</td><td style = \"text-align: left;\">2014-04-22</td><td style = \"text-align: left;\">♥ EDM LOVE 2020</td><td style = \"text-align: left;\">6jI1gFr6ANFtT8MmTvA2Ux</td><td style = \"text-align: left;\">edm</td><td style = \"text-align: left;\">progressive electro house</td><td style = \"text-align: right;\">0.645</td><td style = \"text-align: right;\">0.832</td><td style = \"text-align: right;\">2</td><td style = \"text-align: right;\">-5.595</td><td style = \"text-align: right;\">1</td><td style = \"text-align: right;\">0.0294</td><td style = \"text-align: right;\">0.00106</td><td style = \"text-align: right;\">0.00264</td><td style = \"text-align: right;\">0.199</td><td style = \"text-align: right;\">0.375</td><td style = \"text-align: right;\">112.028</td><td style = \"text-align: right;\">188371</td></tr><tr><td class = \"rowNumber\" style = \"font-weight: bold; text-align: right;\">32828</td><td style = \"text-align: left;\">0aBDrRTgDCwWbcOnEIp7DJ</td><td style = \"text-align: left;\">Many Ways - Radio Edit</td><td style = \"text-align: left;\">Ferry Corsten feat. Jenny Wahlstrom</td><td style = \"text-align: right;\">27</td><td style = \"text-align: left;\">59XOfNjuYZB6feC6QUzS3e</td><td style = \"text-align: left;\">Many Ways</td><td style = \"text-align: left;\">2013-01-01</td><td style = \"text-align: left;\">♥ EDM LOVE 2020</td><td style = \"text-align: left;\">6jI1gFr6ANFtT8MmTvA2Ux</td><td style = \"text-align: left;\">edm</td><td style = \"text-align: left;\">progressive electro house</td><td style = \"text-align: right;\">0.581</td><td style = \"text-align: right;\">0.64</td><td style = \"text-align: right;\">5</td><td style = \"text-align: right;\">-8.367</td><td style = \"text-align: right;\">1</td><td style = \"text-align: right;\">0.0365</td><td style = \"text-align: right;\">0.0266</td><td style = \"text-align: right;\">0.0</td><td style = \"text-align: right;\">0.572</td><td style = \"text-align: right;\">0.288</td><td style = \"text-align: right;\">128.001</td><td style = \"text-align: right;\">196993</td></tr><tr><td class = \"rowNumber\" style = \"font-weight: bold; text-align: right;\">32829</td><td style = \"text-align: left;\">7bxnKAamR3snQ1VGLuVfC1</td><td style = \"text-align: left;\">City Of Lights - Official Radio Edit</td><td style = \"text-align: left;\">Lush &amp; Simon</td><td style = \"text-align: right;\">42</td><td style = \"text-align: left;\">2azRoBBWEEEYhqV6sb7JrT</td><td style = \"text-align: left;\">City Of Lights (Vocal Mix)</td><td style = \"text-align: left;\">2014-04-28</td><td style = \"text-align: left;\">♥ EDM LOVE 2020</td><td style = \"text-align: left;\">6jI1gFr6ANFtT8MmTvA2Ux</td><td style = \"text-align: left;\">edm</td><td style = \"text-align: left;\">progressive electro house</td><td style = \"text-align: right;\">0.428</td><td style = \"text-align: right;\">0.922</td><td style = \"text-align: right;\">2</td><td style = \"text-align: right;\">-1.814</td><td style = \"text-align: right;\">1</td><td style = \"text-align: right;\">0.0936</td><td style = \"text-align: right;\">0.0766</td><td style = \"text-align: right;\">0.0</td><td style = \"text-align: right;\">0.0668</td><td style = \"text-align: right;\">0.21</td><td style = \"text-align: right;\">128.17</td><td style = \"text-align: right;\">204375</td></tr><tr><td class = \"rowNumber\" style = \"font-weight: bold; text-align: right;\">32830</td><td style = \"text-align: left;\">5Aevni09Em4575077nkWHz</td><td style = \"text-align: left;\">Closer - Sultan &amp; Ned Shepard Remix</td><td style = \"text-align: left;\">Tegan and Sara</td><td style = \"text-align: right;\">20</td><td style = \"text-align: left;\">6kD6KLxj7s8eCE3ABvAyf5</td><td style = \"text-align: left;\">Closer Remixed</td><td style = \"text-align: left;\">2013-03-08</td><td style = \"text-align: left;\">♥ EDM LOVE 2020</td><td style = \"text-align: left;\">6jI1gFr6ANFtT8MmTvA2Ux</td><td style = \"text-align: left;\">edm</td><td style = \"text-align: left;\">progressive electro house</td><td style = \"text-align: right;\">0.522</td><td style = \"text-align: right;\">0.786</td><td style = \"text-align: right;\">0</td><td style = \"text-align: right;\">-4.462</td><td style = \"text-align: right;\">1</td><td style = \"text-align: right;\">0.042</td><td style = \"text-align: right;\">0.00171</td><td style = \"text-align: right;\">0.00427</td><td style = \"text-align: right;\">0.375</td><td style = \"text-align: right;\">0.4</td><td style = \"text-align: right;\">128.041</td><td style = \"text-align: right;\">353120</td></tr><tr><td class = \"rowNumber\" style = \"font-weight: bold; text-align: right;\">32831</td><td style = \"text-align: left;\">7ImMqPP3Q1yfUHvsdn7wEo</td><td style = \"text-align: left;\">Sweet Surrender - Radio Edit</td><td style = \"text-align: left;\">Starkillers</td><td style = \"text-align: right;\">14</td><td style = \"text-align: left;\">0ltWNSY9JgxoIZO4VzuCa6</td><td style = \"text-align: left;\">Sweet Surrender (Radio Edit)</td><td style = \"text-align: left;\">2014-04-21</td><td style = \"text-align: left;\">♥ EDM LOVE 2020</td><td style = \"text-align: left;\">6jI1gFr6ANFtT8MmTvA2Ux</td><td style = \"text-align: left;\">edm</td><td style = \"text-align: left;\">progressive electro house</td><td style = \"text-align: right;\">0.529</td><td style = \"text-align: right;\">0.821</td><td style = \"text-align: right;\">6</td><td style = \"text-align: right;\">-4.899</td><td style = \"text-align: right;\">0</td><td style = \"text-align: right;\">0.0481</td><td style = \"text-align: right;\">0.108</td><td style = \"text-align: right;\">1.11e-6</td><td style = \"text-align: right;\">0.15</td><td style = \"text-align: right;\">0.436</td><td style = \"text-align: right;\">127.989</td><td style = \"text-align: right;\">210112</td></tr><tr><td class = \"rowNumber\" style = \"font-weight: bold; text-align: right;\">32832</td><td style = \"text-align: left;\">2m69mhnfQ1Oq6lGtXuYhgX</td><td style = \"text-align: left;\">Only For You - Maor Levi Remix</td><td style = \"text-align: left;\">Mat Zo</td><td style = \"text-align: right;\">15</td><td style = \"text-align: left;\">1fGrOkHnHJcStl14zNx8Jy</td><td style = \"text-align: left;\">Only For You (Remixes)</td><td style = \"text-align: left;\">2014-01-01</td><td style = \"text-align: left;\">♥ EDM LOVE 2020</td><td style = \"text-align: left;\">6jI1gFr6ANFtT8MmTvA2Ux</td><td style = \"text-align: left;\">edm</td><td style = \"text-align: left;\">progressive electro house</td><td style = \"text-align: right;\">0.626</td><td style = \"text-align: right;\">0.888</td><td style = \"text-align: right;\">2</td><td style = \"text-align: right;\">-3.361</td><td style = \"text-align: right;\">1</td><td style = \"text-align: right;\">0.109</td><td style = \"text-align: right;\">0.00792</td><td style = \"text-align: right;\">0.127</td><td style = \"text-align: right;\">0.343</td><td style = \"text-align: right;\">0.308</td><td style = \"text-align: right;\">128.008</td><td style = \"text-align: right;\">367432</td></tr><tr><td class = \"rowNumber\" style = \"font-weight: bold; text-align: right;\">32833</td><td style = \"text-align: left;\">29zWqhca3zt5NsckZqDf6c</td><td style = \"text-align: left;\">Typhoon - Original Mix</td><td style = \"text-align: left;\">Julian Calor</td><td style = \"text-align: right;\">27</td><td style = \"text-align: left;\">0X3mUOm6MhxR7PzxG95rAo</td><td style = \"text-align: left;\">Typhoon/Storm</td><td style = \"text-align: left;\">2014-03-03</td><td style = \"text-align: left;\">♥ EDM LOVE 2020</td><td style = \"text-align: left;\">6jI1gFr6ANFtT8MmTvA2Ux</td><td style = \"text-align: left;\">edm</td><td style = \"text-align: left;\">progressive electro house</td><td style = \"text-align: right;\">0.603</td><td style = \"text-align: right;\">0.884</td><td style = \"text-align: right;\">5</td><td style = \"text-align: right;\">-4.571</td><td style = \"text-align: right;\">0</td><td style = \"text-align: right;\">0.0385</td><td style = \"text-align: right;\">0.000133</td><td style = \"text-align: right;\">0.341</td><td style = \"text-align: right;\">0.742</td><td style = \"text-align: right;\">0.0894</td><td style = \"text-align: right;\">127.984</td><td style = \"text-align: right;\">337500</td></tr></tbody></table></div>"
      ],
      "text/latex": [
       "\\begin{tabular}{r|ccc}\n",
       "\t& track\\_id & track\\_name & \\\\\n",
       "\t\\hline\n",
       "\t& String31 & String & \\\\\n",
       "\t\\hline\n",
       "\t1 & 6f807x0ima9a1j3VPbc7VN & I Don't Care (with Justin Bieber) - Loud Luxury Remix & $\\dots$ \\\\\n",
       "\t2 & 0r7CVbZTWZgbTCYdfa2P31 & Memories - Dillon Francis Remix & $\\dots$ \\\\\n",
       "\t3 & 1z1Hg7Vb0AhHDiEmnDE79l & All the Time - Don Diablo Remix & $\\dots$ \\\\\n",
       "\t4 & 75FpbthrwQmzHlBJLuGdC7 & Call You Mine - Keanu Silva Remix & $\\dots$ \\\\\n",
       "\t5 & 1e8PAfcKUYoKkxPhrHqw4x & Someone You Loved - Future Humans Remix & $\\dots$ \\\\\n",
       "\t6 & 7fvUMiyapMsRRxr07cU8Ef & Beautiful People (feat. Khalid) - Jack Wins Remix & $\\dots$ \\\\\n",
       "\t7 & 2OAylPUDDfwRGfe0lYqlCQ & Never Really Over - R3HAB Remix & $\\dots$ \\\\\n",
       "\t8 & 6b1RNvAcJjQH73eZO4BLAB & Post Malone (feat. RANI) - GATTÜSO Remix & $\\dots$ \\\\\n",
       "\t9 & 7bF6tCO3gFb8INrEDcjNT5 & Tough Love - Tiësto Remix / Radio Edit & $\\dots$ \\\\\n",
       "\t10 & 1IXGILkPm0tOCNeq00kCPa & If I Can't Have You - Gryffin Remix & $\\dots$ \\\\\n",
       "\t11 & 3eFJI470ALf1EYjywPRsJy & Cross Me (feat. Chance the Rapper \\& PnB Rock) - M-22 Remix & $\\dots$ \\\\\n",
       "\t12 & 3iJeF2izF1QcpCgUc97BLl & Hate Me - R3HAB Remix & $\\dots$ \\\\\n",
       "\t13 & 6e0CvGZf7CouOpYF8toXHC & Body On My & $\\dots$ \\\\\n",
       "\t14 & 3eLdNmnRWr9gIyBcqTSSti & SOS - Laidback Luke Tribute Remix / Radio Edit & $\\dots$ \\\\\n",
       "\t15 & 55nMnifaQWKe3f9cbwOXwx & Summer Days (feat. Macklemore \\& Patrick Stump of Fall Out Boy) - Tiësto Remix & $\\dots$ \\\\\n",
       "\t16 & 1EJgymgJHcjSOGSHcYaxvW & South of the Border (feat. Camila Cabello \\& Cardi B) - Andy Jarvis Remix & $\\dots$ \\\\\n",
       "\t17 & 5WaXMQMlQpq8pwIdaFP43L & All My Friends - Eden Prince Remix & $\\dots$ \\\\\n",
       "\t18 & 3TjLsDgL0bTbSQIF6M5Ki8 & Say My Name (feat. Bebe Rexha \\& J Balvin) - Lucas \\& Steve Remix & $\\dots$ \\\\\n",
       "\t19 & 0GfS3y8Jd7SHWd9R51s7Fo & Dancing With A Stranger (With Normani) - Cheat Codes Remix & $\\dots$ \\\\\n",
       "\t20 & 2v3DuCVBbopteJqdM7aKQK & Let It Be Me - Sondr Remix & $\\dots$ \\\\\n",
       "\t21 & 4QAUGy6k7c3IOAhgWz52r7 & Heaven - David Guetta \\& MORTEN Remix & $\\dots$ \\\\\n",
       "\t22 & 3Ciaf6WgvG95TGRGxQ1yO8 & All Around The World (La La La) - Marnik Remix & $\\dots$ \\\\\n",
       "\t23 & 1mC2UjWt25Oixtqu7C6suL & Don't Leave Me Alone (feat. Anne-Marie) - EDX's Indian Summer Remix & $\\dots$ \\\\\n",
       "\t24 & 2wenGTypSYHXl1sN1pNC7X & Slow Dance (feat. Ava Max) - Sam Feldt Remix & $\\dots$ \\\\\n",
       "\t$\\dots$ & $\\dots$ & $\\dots$ &  \\\\\n",
       "\\end{tabular}\n"
      ],
      "text/plain": [
       "\u001b[1m32833×23 DataFrame\u001b[0m\n",
       "\u001b[1m   Row \u001b[0m│\u001b[1m track_id               \u001b[0m\u001b[1m track_name                        \u001b[0m\u001b[1m track_arti\u001b[0m ⋯\n",
       "       │\u001b[90m String31               \u001b[0m\u001b[90m String                            \u001b[0m\u001b[90m String    \u001b[0m ⋯\n",
       "───────┼────────────────────────────────────────────────────────────────────────\n",
       "     1 │ 6f807x0ima9a1j3VPbc7VN  I Don't Care (with Justin Bieber…  Ed Sheeran ⋯\n",
       "     2 │ 0r7CVbZTWZgbTCYdfa2P31  Memories - Dillon Francis Remix    Maroon 5\n",
       "     3 │ 1z1Hg7Vb0AhHDiEmnDE79l  All the Time - Don Diablo Remix    Zara Larss\n",
       "     4 │ 75FpbthrwQmzHlBJLuGdC7  Call You Mine - Keanu Silva Remix  The Chains\n",
       "     5 │ 1e8PAfcKUYoKkxPhrHqw4x  Someone You Loved - Future Human…  Lewis Capa ⋯\n",
       "     6 │ 7fvUMiyapMsRRxr07cU8Ef  Beautiful People (feat. Khalid) …  Ed Sheeran\n",
       "     7 │ 2OAylPUDDfwRGfe0lYqlCQ  Never Really Over - R3HAB Remix    Katy Perry\n",
       "     8 │ 6b1RNvAcJjQH73eZO4BLAB  Post Malone (feat. RANI) - GATTÜ…  Sam Feldt\n",
       "   ⋮   │           ⋮                             ⋮                             ⋱\n",
       " 32827 │ 1EavLSmwRWtmkKEmlCfFzT  Wasted                             Tiësto     ⋯\n",
       " 32828 │ 0aBDrRTgDCwWbcOnEIp7DJ  Many Ways - Radio Edit             Ferry Cors\n",
       " 32829 │ 7bxnKAamR3snQ1VGLuVfC1  City Of Lights - Official Radio …  Lush & Sim\n",
       " 32830 │ 5Aevni09Em4575077nkWHz  Closer - Sultan & Ned Shepard Re…  Tegan and\n",
       " 32831 │ 7ImMqPP3Q1yfUHvsdn7wEo  Sweet Surrender - Radio Edit       Starkiller ⋯\n",
       " 32832 │ 2m69mhnfQ1Oq6lGtXuYhgX  Only For You - Maor Levi Remix     Mat Zo\n",
       " 32833 │ 29zWqhca3zt5NsckZqDf6c  Typhoon - Original Mix             Julian Cal\n",
       "\u001b[36m                                               21 columns and 32818 rows omitted\u001b[0m"
      ]
     },
     "metadata": {},
     "output_type": "display_data"
    }
   ],
   "source": [
    "# Load the CSV file into a DataFrame\n",
    "df = CSV.read(\"spotify_songs.csv\", DataFrame)\n",
    "df"
   ]
  },
  {
   "cell_type": "markdown",
   "metadata": {},
   "source": [
    "## Preprocess Data"
   ]
  },
  {
   "cell_type": "code",
   "execution_count": 6,
   "metadata": {},
   "outputs": [
    {
     "data": {
      "text/html": [
       "<div><div style = \"float: left;\"><span>32833×5 DataFrame</span></div><div style = \"float: right;\"><span style = \"font-style: italic;\">32808 rows omitted</span></div><div style = \"clear: both;\"></div></div><div class = \"data-frame\" style = \"overflow-x: scroll;\"><table class = \"data-frame\" style = \"margin-bottom: 6px;\"><thead><tr class = \"header\"><th class = \"rowNumber\" style = \"font-weight: bold; text-align: right;\">Row</th><th style = \"text-align: left;\">danceability</th><th style = \"text-align: left;\">energy</th><th style = \"text-align: left;\">valence</th><th style = \"text-align: left;\">track_popularity</th><th style = \"text-align: left;\">is_popular</th></tr><tr class = \"subheader headerLastRow\"><th class = \"rowNumber\" style = \"font-weight: bold; text-align: right;\"></th><th title = \"Float64\" style = \"text-align: left;\">Float64</th><th title = \"Float64\" style = \"text-align: left;\">Float64</th><th title = \"Float64\" style = \"text-align: left;\">Float64</th><th title = \"Int64\" style = \"text-align: left;\">Int64</th><th title = \"Bool\" style = \"text-align: left;\">Bool</th></tr></thead><tbody><tr><td class = \"rowNumber\" style = \"font-weight: bold; text-align: right;\">1</td><td style = \"text-align: right;\">0.748</td><td style = \"text-align: right;\">0.916</td><td style = \"text-align: right;\">0.518</td><td style = \"text-align: right;\">66</td><td style = \"text-align: right;\">true</td></tr><tr><td class = \"rowNumber\" style = \"font-weight: bold; text-align: right;\">2</td><td style = \"text-align: right;\">0.726</td><td style = \"text-align: right;\">0.815</td><td style = \"text-align: right;\">0.693</td><td style = \"text-align: right;\">67</td><td style = \"text-align: right;\">true</td></tr><tr><td class = \"rowNumber\" style = \"font-weight: bold; text-align: right;\">3</td><td style = \"text-align: right;\">0.675</td><td style = \"text-align: right;\">0.931</td><td style = \"text-align: right;\">0.613</td><td style = \"text-align: right;\">70</td><td style = \"text-align: right;\">true</td></tr><tr><td class = \"rowNumber\" style = \"font-weight: bold; text-align: right;\">4</td><td style = \"text-align: right;\">0.718</td><td style = \"text-align: right;\">0.93</td><td style = \"text-align: right;\">0.277</td><td style = \"text-align: right;\">60</td><td style = \"text-align: right;\">true</td></tr><tr><td class = \"rowNumber\" style = \"font-weight: bold; text-align: right;\">5</td><td style = \"text-align: right;\">0.65</td><td style = \"text-align: right;\">0.833</td><td style = \"text-align: right;\">0.725</td><td style = \"text-align: right;\">69</td><td style = \"text-align: right;\">true</td></tr><tr><td class = \"rowNumber\" style = \"font-weight: bold; text-align: right;\">6</td><td style = \"text-align: right;\">0.675</td><td style = \"text-align: right;\">0.919</td><td style = \"text-align: right;\">0.585</td><td style = \"text-align: right;\">67</td><td style = \"text-align: right;\">true</td></tr><tr><td class = \"rowNumber\" style = \"font-weight: bold; text-align: right;\">7</td><td style = \"text-align: right;\">0.449</td><td style = \"text-align: right;\">0.856</td><td style = \"text-align: right;\">0.152</td><td style = \"text-align: right;\">62</td><td style = \"text-align: right;\">true</td></tr><tr><td class = \"rowNumber\" style = \"font-weight: bold; text-align: right;\">8</td><td style = \"text-align: right;\">0.542</td><td style = \"text-align: right;\">0.903</td><td style = \"text-align: right;\">0.367</td><td style = \"text-align: right;\">69</td><td style = \"text-align: right;\">true</td></tr><tr><td class = \"rowNumber\" style = \"font-weight: bold; text-align: right;\">9</td><td style = \"text-align: right;\">0.594</td><td style = \"text-align: right;\">0.935</td><td style = \"text-align: right;\">0.366</td><td style = \"text-align: right;\">68</td><td style = \"text-align: right;\">true</td></tr><tr><td class = \"rowNumber\" style = \"font-weight: bold; text-align: right;\">10</td><td style = \"text-align: right;\">0.642</td><td style = \"text-align: right;\">0.818</td><td style = \"text-align: right;\">0.59</td><td style = \"text-align: right;\">67</td><td style = \"text-align: right;\">true</td></tr><tr><td class = \"rowNumber\" style = \"font-weight: bold; text-align: right;\">11</td><td style = \"text-align: right;\">0.679</td><td style = \"text-align: right;\">0.923</td><td style = \"text-align: right;\">0.752</td><td style = \"text-align: right;\">58</td><td style = \"text-align: right;\">true</td></tr><tr><td class = \"rowNumber\" style = \"font-weight: bold; text-align: right;\">12</td><td style = \"text-align: right;\">0.437</td><td style = \"text-align: right;\">0.774</td><td style = \"text-align: right;\">0.329</td><td style = \"text-align: right;\">67</td><td style = \"text-align: right;\">true</td></tr><tr><td class = \"rowNumber\" style = \"font-weight: bold; text-align: right;\">13</td><td style = \"text-align: right;\">0.744</td><td style = \"text-align: right;\">0.726</td><td style = \"text-align: right;\">0.687</td><td style = \"text-align: right;\">67</td><td style = \"text-align: right;\">true</td></tr><tr><td style = \"text-align: right;\">&vellip;</td><td style = \"text-align: right;\">&vellip;</td><td style = \"text-align: right;\">&vellip;</td><td style = \"text-align: right;\">&vellip;</td><td style = \"text-align: right;\">&vellip;</td><td style = \"text-align: right;\">&vellip;</td></tr><tr><td class = \"rowNumber\" style = \"font-weight: bold; text-align: right;\">32822</td><td style = \"text-align: right;\">0.701</td><td style = \"text-align: right;\">0.607</td><td style = \"text-align: right;\">0.342</td><td style = \"text-align: right;\">0</td><td style = \"text-align: right;\">false</td></tr><tr><td class = \"rowNumber\" style = \"font-weight: bold; text-align: right;\">32823</td><td style = \"text-align: right;\">0.627</td><td style = \"text-align: right;\">0.832</td><td style = \"text-align: right;\">0.216</td><td style = \"text-align: right;\">0</td><td style = \"text-align: right;\">false</td></tr><tr><td class = \"rowNumber\" style = \"font-weight: bold; text-align: right;\">32824</td><td style = \"text-align: right;\">0.609</td><td style = \"text-align: right;\">0.989</td><td style = \"text-align: right;\">0.0358</td><td style = \"text-align: right;\">28</td><td style = \"text-align: right;\">false</td></tr><tr><td class = \"rowNumber\" style = \"font-weight: bold; text-align: right;\">32825</td><td style = \"text-align: right;\">0.545</td><td style = \"text-align: right;\">0.78</td><td style = \"text-align: right;\">0.458</td><td style = \"text-align: right;\">20</td><td style = \"text-align: right;\">false</td></tr><tr><td class = \"rowNumber\" style = \"font-weight: bold; text-align: right;\">32826</td><td style = \"text-align: right;\">0.559</td><td style = \"text-align: right;\">0.916</td><td style = \"text-align: right;\">0.195</td><td style = \"text-align: right;\">47</td><td style = \"text-align: right;\">false</td></tr><tr><td class = \"rowNumber\" style = \"font-weight: bold; text-align: right;\">32827</td><td style = \"text-align: right;\">0.645</td><td style = \"text-align: right;\">0.832</td><td style = \"text-align: right;\">0.375</td><td style = \"text-align: right;\">47</td><td style = \"text-align: right;\">false</td></tr><tr><td class = \"rowNumber\" style = \"font-weight: bold; text-align: right;\">32828</td><td style = \"text-align: right;\">0.581</td><td style = \"text-align: right;\">0.64</td><td style = \"text-align: right;\">0.288</td><td style = \"text-align: right;\">27</td><td style = \"text-align: right;\">false</td></tr><tr><td class = \"rowNumber\" style = \"font-weight: bold; text-align: right;\">32829</td><td style = \"text-align: right;\">0.428</td><td style = \"text-align: right;\">0.922</td><td style = \"text-align: right;\">0.21</td><td style = \"text-align: right;\">42</td><td style = \"text-align: right;\">false</td></tr><tr><td class = \"rowNumber\" style = \"font-weight: bold; text-align: right;\">32830</td><td style = \"text-align: right;\">0.522</td><td style = \"text-align: right;\">0.786</td><td style = \"text-align: right;\">0.4</td><td style = \"text-align: right;\">20</td><td style = \"text-align: right;\">false</td></tr><tr><td class = \"rowNumber\" style = \"font-weight: bold; text-align: right;\">32831</td><td style = \"text-align: right;\">0.529</td><td style = \"text-align: right;\">0.821</td><td style = \"text-align: right;\">0.436</td><td style = \"text-align: right;\">14</td><td style = \"text-align: right;\">false</td></tr><tr><td class = \"rowNumber\" style = \"font-weight: bold; text-align: right;\">32832</td><td style = \"text-align: right;\">0.626</td><td style = \"text-align: right;\">0.888</td><td style = \"text-align: right;\">0.308</td><td style = \"text-align: right;\">15</td><td style = \"text-align: right;\">false</td></tr><tr><td class = \"rowNumber\" style = \"font-weight: bold; text-align: right;\">32833</td><td style = \"text-align: right;\">0.603</td><td style = \"text-align: right;\">0.884</td><td style = \"text-align: right;\">0.0894</td><td style = \"text-align: right;\">27</td><td style = \"text-align: right;\">false</td></tr></tbody></table></div>"
      ],
      "text/latex": [
       "\\begin{tabular}{r|ccccc}\n",
       "\t& danceability & energy & valence & track\\_popularity & is\\_popular\\\\\n",
       "\t\\hline\n",
       "\t& Float64 & Float64 & Float64 & Int64 & Bool\\\\\n",
       "\t\\hline\n",
       "\t1 & 0.748 & 0.916 & 0.518 & 66 & 1 \\\\\n",
       "\t2 & 0.726 & 0.815 & 0.693 & 67 & 1 \\\\\n",
       "\t3 & 0.675 & 0.931 & 0.613 & 70 & 1 \\\\\n",
       "\t4 & 0.718 & 0.93 & 0.277 & 60 & 1 \\\\\n",
       "\t5 & 0.65 & 0.833 & 0.725 & 69 & 1 \\\\\n",
       "\t6 & 0.675 & 0.919 & 0.585 & 67 & 1 \\\\\n",
       "\t7 & 0.449 & 0.856 & 0.152 & 62 & 1 \\\\\n",
       "\t8 & 0.542 & 0.903 & 0.367 & 69 & 1 \\\\\n",
       "\t9 & 0.594 & 0.935 & 0.366 & 68 & 1 \\\\\n",
       "\t10 & 0.642 & 0.818 & 0.59 & 67 & 1 \\\\\n",
       "\t11 & 0.679 & 0.923 & 0.752 & 58 & 1 \\\\\n",
       "\t12 & 0.437 & 0.774 & 0.329 & 67 & 1 \\\\\n",
       "\t13 & 0.744 & 0.726 & 0.687 & 67 & 1 \\\\\n",
       "\t14 & 0.572 & 0.915 & 0.678 & 68 & 1 \\\\\n",
       "\t15 & 0.69 & 0.78 & 0.238 & 63 & 1 \\\\\n",
       "\t16 & 0.805 & 0.835 & 0.722 & 66 & 1 \\\\\n",
       "\t17 & 0.694 & 0.901 & 0.368 & 60 & 1 \\\\\n",
       "\t18 & 0.678 & 0.747 & 0.516 & 65 & 1 \\\\\n",
       "\t19 & 0.746 & 0.557 & 0.324 & 69 & 1 \\\\\n",
       "\t20 & 0.467 & 0.821 & 0.232 & 35 & 0 \\\\\n",
       "\t21 & 0.572 & 0.934 & 0.204 & 70 & 1 \\\\\n",
       "\t22 & 0.708 & 0.913 & 0.707 & 64 & 1 \\\\\n",
       "\t23 & 0.684 & 0.818 & 0.336 & 62 & 1 \\\\\n",
       "\t24 & 0.732 & 0.85 & 0.372 & 70 & 1 \\\\\n",
       "\t$\\dots$ & $\\dots$ & $\\dots$ & $\\dots$ & $\\dots$ & $\\dots$ \\\\\n",
       "\\end{tabular}\n"
      ],
      "text/plain": [
       "\u001b[1m32833×5 DataFrame\u001b[0m\n",
       "\u001b[1m   Row \u001b[0m│\u001b[1m danceability \u001b[0m\u001b[1m energy  \u001b[0m\u001b[1m valence \u001b[0m\u001b[1m track_popularity \u001b[0m\u001b[1m is_popular \u001b[0m\n",
       "       │\u001b[90m Float64      \u001b[0m\u001b[90m Float64 \u001b[0m\u001b[90m Float64 \u001b[0m\u001b[90m Int64            \u001b[0m\u001b[90m Bool       \u001b[0m\n",
       "───────┼──────────────────────────────────────────────────────────────\n",
       "     1 │        0.748    0.916   0.518                 66        true\n",
       "     2 │        0.726    0.815   0.693                 67        true\n",
       "     3 │        0.675    0.931   0.613                 70        true\n",
       "     4 │        0.718    0.93    0.277                 60        true\n",
       "     5 │        0.65     0.833   0.725                 69        true\n",
       "     6 │        0.675    0.919   0.585                 67        true\n",
       "     7 │        0.449    0.856   0.152                 62        true\n",
       "     8 │        0.542    0.903   0.367                 69        true\n",
       "   ⋮   │      ⋮           ⋮        ⋮            ⋮              ⋮\n",
       " 32827 │        0.645    0.832   0.375                 47       false\n",
       " 32828 │        0.581    0.64    0.288                 27       false\n",
       " 32829 │        0.428    0.922   0.21                  42       false\n",
       " 32830 │        0.522    0.786   0.4                   20       false\n",
       " 32831 │        0.529    0.821   0.436                 14       false\n",
       " 32832 │        0.626    0.888   0.308                 15       false\n",
       " 32833 │        0.603    0.884   0.0894                27       false\n",
       "\u001b[36m                                                    32818 rows omitted\u001b[0m"
      ]
     },
     "metadata": {},
     "output_type": "display_data"
    }
   ],
   "source": [
    "using Chain\n",
    "@chain df begin\n",
    "    dropmissing                      # Remove rows with missing values\n",
    "    transform(:track_popularity => ByRow(x -> x >= 50) => :is_popular)  # Add binary 'is_popular'\n",
    "    select(:liveness, :track_name,: track_artist, :danceability, :energy, :valence, :track_popularity, :is_popular)  # Select relevant columns\n",
    "end"
   ]
  },
  {
   "cell_type": "code",
   "execution_count": 35,
   "metadata": {},
   "outputs": [
    {
     "data": {
      "text/html": [
       "<div><div style = \"float: left;\"><span>32833×1 DataFrame</span></div><div style = \"float: right;\"><span style = \"font-style: italic;\">32808 rows omitted</span></div><div style = \"clear: both;\"></div></div><div class = \"data-frame\" style = \"overflow-x: scroll;\"><table class = \"data-frame\" style = \"margin-bottom: 6px;\"><thead><tr class = \"header\"><th class = \"rowNumber\" style = \"font-weight: bold; text-align: right;\">Row</th><th style = \"text-align: left;\">track_album_release_date</th></tr><tr class = \"subheader headerLastRow\"><th class = \"rowNumber\" style = \"font-weight: bold; text-align: right;\"></th><th title = \"Dates.Date\" style = \"text-align: left;\">Date</th></tr></thead><tbody><tr><td class = \"rowNumber\" style = \"font-weight: bold; text-align: right;\">1</td><td style = \"text-align: left;\">2019-06-14</td></tr><tr><td class = \"rowNumber\" style = \"font-weight: bold; text-align: right;\">2</td><td style = \"text-align: left;\">2019-12-13</td></tr><tr><td class = \"rowNumber\" style = \"font-weight: bold; text-align: right;\">3</td><td style = \"text-align: left;\">2019-07-05</td></tr><tr><td class = \"rowNumber\" style = \"font-weight: bold; text-align: right;\">4</td><td style = \"text-align: left;\">2019-07-19</td></tr><tr><td class = \"rowNumber\" style = \"font-weight: bold; text-align: right;\">5</td><td style = \"text-align: left;\">2019-03-05</td></tr><tr><td class = \"rowNumber\" style = \"font-weight: bold; text-align: right;\">6</td><td style = \"text-align: left;\">2019-07-11</td></tr><tr><td class = \"rowNumber\" style = \"font-weight: bold; text-align: right;\">7</td><td style = \"text-align: left;\">2019-07-26</td></tr><tr><td class = \"rowNumber\" style = \"font-weight: bold; text-align: right;\">8</td><td style = \"text-align: left;\">2019-08-29</td></tr><tr><td class = \"rowNumber\" style = \"font-weight: bold; text-align: right;\">9</td><td style = \"text-align: left;\">2019-06-14</td></tr><tr><td class = \"rowNumber\" style = \"font-weight: bold; text-align: right;\">10</td><td style = \"text-align: left;\">2019-06-20</td></tr><tr><td class = \"rowNumber\" style = \"font-weight: bold; text-align: right;\">11</td><td style = \"text-align: left;\">2019-06-21</td></tr><tr><td class = \"rowNumber\" style = \"font-weight: bold; text-align: right;\">12</td><td style = \"text-align: left;\">2019-08-16</td></tr><tr><td class = \"rowNumber\" style = \"font-weight: bold; text-align: right;\">13</td><td style = \"text-align: left;\">2019-03-29</td></tr><tr><td style = \"text-align: right;\">&vellip;</td><td style = \"text-align: right;\">&vellip;</td></tr><tr><td class = \"rowNumber\" style = \"font-weight: bold; text-align: right;\">32822</td><td style = \"text-align: left;\">2014-04-16</td></tr><tr><td class = \"rowNumber\" style = \"font-weight: bold; text-align: right;\">32823</td><td style = \"text-align: left;\">2014-04-01</td></tr><tr><td class = \"rowNumber\" style = \"font-weight: bold; text-align: right;\">32824</td><td style = \"text-align: left;\">2014-04-18</td></tr><tr><td class = \"rowNumber\" style = \"font-weight: bold; text-align: right;\">32825</td><td style = \"text-align: left;\">2013-01-01</td></tr><tr><td class = \"rowNumber\" style = \"font-weight: bold; text-align: right;\">32826</td><td style = \"text-align: left;\">2013-01-01</td></tr><tr><td class = \"rowNumber\" style = \"font-weight: bold; text-align: right;\">32827</td><td style = \"text-align: left;\">2014-04-22</td></tr><tr><td class = \"rowNumber\" style = \"font-weight: bold; text-align: right;\">32828</td><td style = \"text-align: left;\">2013-01-01</td></tr><tr><td class = \"rowNumber\" style = \"font-weight: bold; text-align: right;\">32829</td><td style = \"text-align: left;\">2014-04-28</td></tr><tr><td class = \"rowNumber\" style = \"font-weight: bold; text-align: right;\">32830</td><td style = \"text-align: left;\">2013-03-08</td></tr><tr><td class = \"rowNumber\" style = \"font-weight: bold; text-align: right;\">32831</td><td style = \"text-align: left;\">2014-04-21</td></tr><tr><td class = \"rowNumber\" style = \"font-weight: bold; text-align: right;\">32832</td><td style = \"text-align: left;\">2014-01-01</td></tr><tr><td class = \"rowNumber\" style = \"font-weight: bold; text-align: right;\">32833</td><td style = \"text-align: left;\">2014-03-03</td></tr></tbody></table></div>"
      ],
      "text/latex": [
       "\\begin{tabular}{r|c}\n",
       "\t& track\\_album\\_release\\_date\\\\\n",
       "\t\\hline\n",
       "\t& Date\\\\\n",
       "\t\\hline\n",
       "\t1 & 2019-06-14 \\\\\n",
       "\t2 & 2019-12-13 \\\\\n",
       "\t3 & 2019-07-05 \\\\\n",
       "\t4 & 2019-07-19 \\\\\n",
       "\t5 & 2019-03-05 \\\\\n",
       "\t6 & 2019-07-11 \\\\\n",
       "\t7 & 2019-07-26 \\\\\n",
       "\t8 & 2019-08-29 \\\\\n",
       "\t9 & 2019-06-14 \\\\\n",
       "\t10 & 2019-06-20 \\\\\n",
       "\t11 & 2019-06-21 \\\\\n",
       "\t12 & 2019-08-16 \\\\\n",
       "\t13 & 2019-03-29 \\\\\n",
       "\t14 & 2019-05-17 \\\\\n",
       "\t15 & 2019-07-12 \\\\\n",
       "\t16 & 2019-12-11 \\\\\n",
       "\t17 & 2019-05-03 \\\\\n",
       "\t18 & 2018-12-28 \\\\\n",
       "\t19 & 2019-03-08 \\\\\n",
       "\t20 & 2019-10-18 \\\\\n",
       "\t21 & 2019-08-23 \\\\\n",
       "\t22 & 2019-08-23 \\\\\n",
       "\t23 & 2019-05-08 \\\\\n",
       "\t24 & 2019-10-25 \\\\\n",
       "\t$\\dots$ & $\\dots$ \\\\\n",
       "\\end{tabular}\n"
      ],
      "text/plain": [
       "\u001b[1m32833×1 DataFrame\u001b[0m\n",
       "\u001b[1m   Row \u001b[0m│\u001b[1m track_album_release_date \u001b[0m\n",
       "       │\u001b[90m Dates.Date               \u001b[0m\n",
       "───────┼──────────────────────────\n",
       "     1 │ 2019-06-14\n",
       "     2 │ 2019-12-13\n",
       "     3 │ 2019-07-05\n",
       "     4 │ 2019-07-19\n",
       "     5 │ 2019-03-05\n",
       "     6 │ 2019-07-11\n",
       "     7 │ 2019-07-26\n",
       "     8 │ 2019-08-29\n",
       "   ⋮   │            ⋮\n",
       " 32827 │ 2014-04-22\n",
       " 32828 │ 2013-01-01\n",
       " 32829 │ 2014-04-28\n",
       " 32830 │ 2013-03-08\n",
       " 32831 │ 2014-04-21\n",
       " 32832 │ 2014-01-01\n",
       " 32833 │ 2014-03-03\n",
       "\u001b[36m                32818 rows omitted\u001b[0m"
      ]
     },
     "metadata": {},
     "output_type": "display_data"
    }
   ],
   "source": [
    "@chain df begin\n",
    "    select(:track_album_release_date)  # Select relevant columns\n",
    "end"
   ]
  },
  {
   "cell_type": "code",
   "execution_count": 38,
   "metadata": {},
   "outputs": [
    {
     "data": {
      "text/html": [
       "<div><div style = \"float: left;\"><span>32833×1 DataFrame</span></div><div style = \"float: right;\"><span style = \"font-style: italic;\">32808 rows omitted</span></div><div style = \"clear: both;\"></div></div><div class = \"data-frame\" style = \"overflow-x: scroll;\"><table class = \"data-frame\" style = \"margin-bottom: 6px;\"><thead><tr class = \"header\"><th class = \"rowNumber\" style = \"font-weight: bold; text-align: right;\">Row</th><th style = \"text-align: left;\">year</th></tr><tr class = \"subheader headerLastRow\"><th class = \"rowNumber\" style = \"font-weight: bold; text-align: right;\"></th><th title = \"Int64\" style = \"text-align: left;\">Int64</th></tr></thead><tbody><tr><td class = \"rowNumber\" style = \"font-weight: bold; text-align: right;\">1</td><td style = \"text-align: right;\">2019</td></tr><tr><td class = \"rowNumber\" style = \"font-weight: bold; text-align: right;\">2</td><td style = \"text-align: right;\">2019</td></tr><tr><td class = \"rowNumber\" style = \"font-weight: bold; text-align: right;\">3</td><td style = \"text-align: right;\">2019</td></tr><tr><td class = \"rowNumber\" style = \"font-weight: bold; text-align: right;\">4</td><td style = \"text-align: right;\">2019</td></tr><tr><td class = \"rowNumber\" style = \"font-weight: bold; text-align: right;\">5</td><td style = \"text-align: right;\">2019</td></tr><tr><td class = \"rowNumber\" style = \"font-weight: bold; text-align: right;\">6</td><td style = \"text-align: right;\">2019</td></tr><tr><td class = \"rowNumber\" style = \"font-weight: bold; text-align: right;\">7</td><td style = \"text-align: right;\">2019</td></tr><tr><td class = \"rowNumber\" style = \"font-weight: bold; text-align: right;\">8</td><td style = \"text-align: right;\">2019</td></tr><tr><td class = \"rowNumber\" style = \"font-weight: bold; text-align: right;\">9</td><td style = \"text-align: right;\">2019</td></tr><tr><td class = \"rowNumber\" style = \"font-weight: bold; text-align: right;\">10</td><td style = \"text-align: right;\">2019</td></tr><tr><td class = \"rowNumber\" style = \"font-weight: bold; text-align: right;\">11</td><td style = \"text-align: right;\">2019</td></tr><tr><td class = \"rowNumber\" style = \"font-weight: bold; text-align: right;\">12</td><td style = \"text-align: right;\">2019</td></tr><tr><td class = \"rowNumber\" style = \"font-weight: bold; text-align: right;\">13</td><td style = \"text-align: right;\">2019</td></tr><tr><td style = \"text-align: right;\">&vellip;</td><td style = \"text-align: right;\">&vellip;</td></tr><tr><td class = \"rowNumber\" style = \"font-weight: bold; text-align: right;\">32822</td><td style = \"text-align: right;\">2014</td></tr><tr><td class = \"rowNumber\" style = \"font-weight: bold; text-align: right;\">32823</td><td style = \"text-align: right;\">2014</td></tr><tr><td class = \"rowNumber\" style = \"font-weight: bold; text-align: right;\">32824</td><td style = \"text-align: right;\">2014</td></tr><tr><td class = \"rowNumber\" style = \"font-weight: bold; text-align: right;\">32825</td><td style = \"text-align: right;\">2013</td></tr><tr><td class = \"rowNumber\" style = \"font-weight: bold; text-align: right;\">32826</td><td style = \"text-align: right;\">2013</td></tr><tr><td class = \"rowNumber\" style = \"font-weight: bold; text-align: right;\">32827</td><td style = \"text-align: right;\">2014</td></tr><tr><td class = \"rowNumber\" style = \"font-weight: bold; text-align: right;\">32828</td><td style = \"text-align: right;\">2013</td></tr><tr><td class = \"rowNumber\" style = \"font-weight: bold; text-align: right;\">32829</td><td style = \"text-align: right;\">2014</td></tr><tr><td class = \"rowNumber\" style = \"font-weight: bold; text-align: right;\">32830</td><td style = \"text-align: right;\">2013</td></tr><tr><td class = \"rowNumber\" style = \"font-weight: bold; text-align: right;\">32831</td><td style = \"text-align: right;\">2014</td></tr><tr><td class = \"rowNumber\" style = \"font-weight: bold; text-align: right;\">32832</td><td style = \"text-align: right;\">2014</td></tr><tr><td class = \"rowNumber\" style = \"font-weight: bold; text-align: right;\">32833</td><td style = \"text-align: right;\">2014</td></tr></tbody></table></div>"
      ],
      "text/latex": [
       "\\begin{tabular}{r|c}\n",
       "\t& year\\\\\n",
       "\t\\hline\n",
       "\t& Int64\\\\\n",
       "\t\\hline\n",
       "\t1 & 2019 \\\\\n",
       "\t2 & 2019 \\\\\n",
       "\t3 & 2019 \\\\\n",
       "\t4 & 2019 \\\\\n",
       "\t5 & 2019 \\\\\n",
       "\t6 & 2019 \\\\\n",
       "\t7 & 2019 \\\\\n",
       "\t8 & 2019 \\\\\n",
       "\t9 & 2019 \\\\\n",
       "\t10 & 2019 \\\\\n",
       "\t11 & 2019 \\\\\n",
       "\t12 & 2019 \\\\\n",
       "\t13 & 2019 \\\\\n",
       "\t14 & 2019 \\\\\n",
       "\t15 & 2019 \\\\\n",
       "\t16 & 2019 \\\\\n",
       "\t17 & 2019 \\\\\n",
       "\t18 & 2018 \\\\\n",
       "\t19 & 2019 \\\\\n",
       "\t20 & 2019 \\\\\n",
       "\t21 & 2019 \\\\\n",
       "\t22 & 2019 \\\\\n",
       "\t23 & 2019 \\\\\n",
       "\t24 & 2019 \\\\\n",
       "\t$\\dots$ & $\\dots$ \\\\\n",
       "\\end{tabular}\n"
      ],
      "text/plain": [
       "\u001b[1m32833×1 DataFrame\u001b[0m\n",
       "\u001b[1m   Row \u001b[0m│\u001b[1m year  \u001b[0m\n",
       "       │\u001b[90m Int64 \u001b[0m\n",
       "───────┼───────\n",
       "     1 │  2019\n",
       "     2 │  2019\n",
       "     3 │  2019\n",
       "     4 │  2019\n",
       "     5 │  2019\n",
       "     6 │  2019\n",
       "     7 │  2019\n",
       "     8 │  2019\n",
       "   ⋮   │   ⋮\n",
       " 32827 │  2014\n",
       " 32828 │  2013\n",
       " 32829 │  2014\n",
       " 32830 │  2013\n",
       " 32831 │  2014\n",
       " 32832 │  2014\n",
       " 32833 │  2014\n",
       "\u001b[36m32818 rows omitted\u001b[0m"
      ]
     },
     "metadata": {},
     "output_type": "display_data"
    }
   ],
   "source": [
    "@chain df begin\n",
    "    transform(:track_album_release_date => ByRow(year) => :year)  # Directly extract year\n",
    "    select(:year)\n",
    "end"
   ]
  },
  {
   "cell_type": "markdown",
   "metadata": {},
   "source": [
    "## Summary Stats"
   ]
  },
  {
   "cell_type": "code",
   "execution_count": null,
   "metadata": {},
   "outputs": [],
   "source": []
  },
  {
   "cell_type": "markdown",
   "metadata": {},
   "source": [
    "## Exploratory Data Analysis (Visualizing)"
   ]
  },
  {
   "cell_type": "markdown",
   "metadata": {},
   "source": [
    "### Correlation MAtrix with Audio Features"
   ]
  },
  {
   "cell_type": "code",
   "execution_count": 34,
   "metadata": {},
   "outputs": [
    {
     "ename": "UndefVarError",
     "evalue": "UndefVarError: `cor` not defined",
     "output_type": "error",
     "traceback": [
      "UndefVarError: `cor` not defined\n",
      "\n",
      "Stacktrace:\n",
      " [1] top-level scope\n",
      "   @ d:\\ThienDuck\\THIENDUC\\scicompvisual\\final_project\\kaggle_spotify_final\\jl_notebook_cell_df34fa98e69747e1a8f8a730347b8e2f_X32sZmlsZQ==.jl:3"
     ]
    }
   ],
   "source": [
    "\n",
    "\n",
    "corr_matrix = cor(df[:, [:danceability, :energy, :loudness, :speechiness, :acousticness, :instrumentalness, :liveness, :valence, :tempo, :track_popularity]])\n",
    "println(\"Correlation Matrix:\")\n",
    "println(corr_matrix)"
   ]
  },
  {
   "cell_type": "markdown",
   "metadata": {},
   "source": [
    "## "
   ]
  }
 ],
 "metadata": {
  "kernelspec": {
   "display_name": "Julia 1.10.5",
   "language": "julia",
   "name": "julia-1.10"
  },
  "language_info": {
   "file_extension": ".jl",
   "mimetype": "application/julia",
   "name": "julia",
   "version": "1.10.5"
  }
 },
 "nbformat": 4,
 "nbformat_minor": 2
}

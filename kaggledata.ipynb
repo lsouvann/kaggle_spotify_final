{
 "cells": [
  {
   "cell_type": "markdown",
   "metadata": {},
   "source": [
    "### Getting Spotify Data From Kaggle"
   ]
  },
  {
   "cell_type": "code",
   "execution_count": 3,
   "metadata": {},
   "outputs": [
    {
     "name": "stderr",
     "output_type": "stream",
     "text": [
      "\u001b[32m\u001b[1m    Updating\u001b[22m\u001b[39m registry at `C:\\Users\\User\\.julia\\registries\\General.toml`\n",
      "\u001b[32m\u001b[1m   Resolving\u001b[22m\u001b[39m package versions...\n",
      "\u001b[32m\u001b[1m  No Changes\u001b[22m\u001b[39m to `C:\\Users\\User\\.julia\\environments\\v1.10\\Project.toml`\n",
      "\u001b[32m\u001b[1m  No Changes\u001b[22m\u001b[39m to `C:\\Users\\User\\.julia\\environments\\v1.10\\Manifest.toml`\n",
      "\u001b[32m\u001b[1m   Resolving\u001b[22m\u001b[39m package versions...\n",
      "\u001b[32m\u001b[1m  No Changes\u001b[22m\u001b[39m to `C:\\Users\\User\\.julia\\environments\\v1.10\\Project.toml`\n",
      "\u001b[32m\u001b[1m  No Changes\u001b[22m\u001b[39m to `C:\\Users\\User\\.julia\\environments\\v1.10\\Manifest.toml`\n"
     ]
    }
   ],
   "source": [
    "using Pkg\n",
    "Pkg.add(\"CSV\")\n",
    "Pkg.add(\"DataFrames\")"
   ]
  },
  {
   "cell_type": "markdown",
   "metadata": {},
   "source": [
    "## Understanding the Data"
   ]
  },
  {
   "cell_type": "code",
   "execution_count": 4,
   "metadata": {},
   "outputs": [],
   "source": [
    "\n",
    "using CSV\n",
    "using DataFrames"
   ]
  },
  {
   "cell_type": "code",
   "execution_count": 14,
   "metadata": {},
   "outputs": [
    {
     "name": "stdout",
     "output_type": "stream",
     "text": [
      "\u001b[1m10×23 DataFrame\u001b[0m\n",
      "\u001b[1m Row \u001b[0m│\u001b[1m track_id               \u001b[0m\u001b[1m track_name                        \u001b[0m\u001b[1m track_artist     \u001b[0m\u001b[1m track_popularity \u001b[0m\u001b[1m track_album_id         \u001b[0m\u001b[1m track_album_name                  \u001b[0m\u001b[1m track_album_release_date \u001b[0m\u001b[1m playlist_name \u001b[0m\u001b[1m playlist_id            \u001b[0m\u001b[1m playlist_genre \u001b[0m\u001b[1m playlist_subgenre \u001b[0m\u001b[1m danceability \u001b[0m\u001b[1m energy  \u001b[0m\u001b[1m key   \u001b[0m\u001b[1m loudness \u001b[0m\u001b[1m mode  \u001b[0m\u001b[1m speechiness \u001b[0m\u001b[1m acousticness \u001b[0m\u001b[1m instrumentalness \u001b[0m\u001b[1m liveness \u001b[0m\u001b[1m valence \u001b[0m\u001b[1m tempo   \u001b[0m\u001b[1m duration_ms \u001b[0m\n",
      "     │\u001b[90m String31               \u001b[0m\u001b[90m String                            \u001b[0m\u001b[90m String           \u001b[0m\u001b[90m Int64            \u001b[0m\u001b[90m String31               \u001b[0m\u001b[90m String                            \u001b[0m\u001b[90m Date                     \u001b[0m\u001b[90m String        \u001b[0m\u001b[90m String31               \u001b[0m\u001b[90m String7        \u001b[0m\u001b[90m String31          \u001b[0m\u001b[90m Float64      \u001b[0m\u001b[90m Float64 \u001b[0m\u001b[90m Int64 \u001b[0m\u001b[90m Float64  \u001b[0m\u001b[90m Int64 \u001b[0m\u001b[90m Float64     \u001b[0m\u001b[90m Float64      \u001b[0m\u001b[90m Float64          \u001b[0m\u001b[90m Float64  \u001b[0m\u001b[90m Float64 \u001b[0m\u001b[90m Float64 \u001b[0m\u001b[90m Int64       \u001b[0m\n",
      "─────┼───────────────────────────────────────────────────────────────────────────────────────────────────────────────────────────────────────────────────────────────────────────────────────────────────────────────────────────────────────────────────────────────────────────────────────────────────────────────────────────────────────────────────────────────────────────────────────────────────\n",
      "   1 │ 6f807x0ima9a1j3VPbc7VN  I Don't Care (with Justin Bieber…  Ed Sheeran                      66  2oCs0DGTsRO98Gh5ZSl2Cx  I Don't Care (with Justin Bieber…  2019-06-14                Pop Remix      37i9dQZF1DXcZDD7cfEKhW  pop             dance pop                 0.748    0.916      6    -2.634      1       0.0583        0.102            0.0        0.0653    0.518  122.036       194754\n",
      "   2 │ 0r7CVbZTWZgbTCYdfa2P31  Memories - Dillon Francis Remix    Maroon 5                        67  63rPSO264uRjW1X5E6cWv6  Memories (Dillon Francis Remix)    2019-12-13                Pop Remix      37i9dQZF1DXcZDD7cfEKhW  pop             dance pop                 0.726    0.815     11    -4.969      1       0.0373        0.0724           0.00421    0.357     0.693   99.972       162600\n",
      "   3 │ 1z1Hg7Vb0AhHDiEmnDE79l  All the Time - Don Diablo Remix    Zara Larsson                    70  1HoSmj2eLcsrR0vE9gThr4  All the Time (Don Diablo Remix)    2019-07-05                Pop Remix      37i9dQZF1DXcZDD7cfEKhW  pop             dance pop                 0.675    0.931      1    -3.432      0       0.0742        0.0794           2.33e-5    0.11      0.613  124.008       176616\n",
      "   4 │ 75FpbthrwQmzHlBJLuGdC7  Call You Mine - Keanu Silva Remix  The Chainsmokers                60  1nqYsOef1yKKuGOVchbsk6  Call You Mine - The Remixes        2019-07-19                Pop Remix      37i9dQZF1DXcZDD7cfEKhW  pop             dance pop                 0.718    0.93       7    -3.778      1       0.102         0.0287           9.43e-6    0.204     0.277  121.956       169093\n",
      "   5 │ 1e8PAfcKUYoKkxPhrHqw4x  Someone You Loved - Future Human…  Lewis Capaldi                   69  7m7vv9wlQ4i0LFuJiE2zsQ  Someone You Loved (Future Humans…  2019-03-05                Pop Remix      37i9dQZF1DXcZDD7cfEKhW  pop             dance pop                 0.65     0.833      1    -4.672      1       0.0359        0.0803           0.0        0.0833    0.725  123.976       189052\n",
      "   6 │ 7fvUMiyapMsRRxr07cU8Ef  Beautiful People (feat. Khalid) …  Ed Sheeran                      67  2yiy9cd2QktrNvWC2EUi0k  Beautiful People (feat. Khalid) …  2019-07-11                Pop Remix      37i9dQZF1DXcZDD7cfEKhW  pop             dance pop                 0.675    0.919      8    -5.385      1       0.127         0.0799           0.0        0.143     0.585  124.982       163049\n",
      "   7 │ 2OAylPUDDfwRGfe0lYqlCQ  Never Really Over - R3HAB Remix    Katy Perry                      62  7INHYSeusaFlyrHSNxm8qH  Never Really Over (R3HAB Remix)    2019-07-26                Pop Remix      37i9dQZF1DXcZDD7cfEKhW  pop             dance pop                 0.449    0.856      5    -4.788      0       0.0623        0.187            0.0        0.176     0.152  112.648       187675\n",
      "   8 │ 6b1RNvAcJjQH73eZO4BLAB  Post Malone (feat. RANI) - GATTÜ…  Sam Feldt                       69  6703SRPsLkS4bPtMFFJes1  Post Malone (feat. RANI) [GATTÜS…  2019-08-29                Pop Remix      37i9dQZF1DXcZDD7cfEKhW  pop             dance pop                 0.542    0.903      4    -2.419      0       0.0434        0.0335           4.83e-6    0.111     0.367  127.936       207619\n",
      "   9 │ 7bF6tCO3gFb8INrEDcjNT5  Tough Love - Tiësto Remix / Radi…  Avicii                          68  7CvAfGvq4RlIwEbT9o8Iav  Tough Love (Tiësto Remix)          2019-06-14                Pop Remix      37i9dQZF1DXcZDD7cfEKhW  pop             dance pop                 0.594    0.935      8    -3.562      1       0.0565        0.0249           3.97e-6    0.637     0.366  127.015       193187\n",
      "  10 │ 1IXGILkPm0tOCNeq00kCPa  If I Can't Have You - Gryffin Re…  Shawn Mendes                    67  4QxzbfSsVryEQwvPFEV5Iu  If I Can't Have You (Gryffin Rem…  2019-06-20                Pop Remix      37i9dQZF1DXcZDD7cfEKhW  pop             dance pop                 0.642    0.818      2    -4.552      1       0.032         0.0567           0.0        0.0919    0.59   124.957       253040\n",
      "(32833, 23)\n",
      "[\"track_id\", \"track_name\", \"track_artist\", \"track_popularity\", \"track_album_id\", \"track_album_name\", \"track_album_release_date\", \"playlist_name\", \"playlist_id\", \"playlist_genre\", \"playlist_subgenre\", \"danceability\", \"energy\", \"key\", \"loudness\", \"mode\", \"speechiness\", \"acousticness\", \"instrumentalness\", \"liveness\", \"valence\", \"tempo\", \"duration_ms\"]\n",
      "\u001b[1m23×7 DataFrame\u001b[0m\n",
      "\u001b[1m Row \u001b[0m│\u001b[1m variable                 \u001b[0m\u001b[1m mean      \u001b[0m\u001b[1m min                               \u001b[0m\u001b[1m median     \u001b[0m\u001b[1m max                               \u001b[0m\u001b[1m nmissing \u001b[0m\u001b[1m eltype   \u001b[0m\n",
      "     │\u001b[90m Symbol                   \u001b[0m\u001b[90m Union…    \u001b[0m\u001b[90m Any                               \u001b[0m\u001b[90m Any        \u001b[0m\u001b[90m Any                               \u001b[0m\u001b[90m Int64    \u001b[0m\u001b[90m DataType \u001b[0m\n",
      "─────┼───────────────────────────────────────────────────────────────────────────────────────────────────────────────────────────────────────────\n",
      "   1 │ track_id                 \u001b[90m           \u001b[0m 0017A6SJgTbfQVU2EtsPNo            \u001b[90m            \u001b[0m 7zzZmpw8L66ZPjH1M6qmOs                    0  String31\n",
      "   2 │ track_name               \u001b[90m           \u001b[0m \"I TRIED FOR YEARS... NOBODY LIS… \u001b[90m            \u001b[0m 하드캐리 Hard Carry                       0  String\n",
      "   3 │ track_artist             \u001b[90m           \u001b[0m !!!                               \u001b[90m            \u001b[0m 香取慎吾                                  0  String\n",
      "   4 │ track_popularity          42.4771    0                                  45.0        100                                       0  Int64\n",
      "   5 │ track_album_id           \u001b[90m           \u001b[0m 000YOrgQoB5IiiH95Yb8vY            \u001b[90m            \u001b[0m 7zygyMUltFYOvHoT3NOTsj                    0  String31\n",
      "   6 │ track_album_name         \u001b[90m           \u001b[0m !                                 \u001b[90m            \u001b[0m 화양연화 The Most Beautiful Mome…         0  String\n",
      "   7 │ track_album_release_date \u001b[90m           \u001b[0m 1957-01-01                         2016-08-26  2020-01-29                                0  Date\n",
      "   8 │ playlist_name            \u001b[90m           \u001b[0m \"Permanent Wave\"                  \u001b[90m            \u001b[0m 🤩🤪Post Teen Pop🤪🤩                     0  String\n",
      "   9 │ playlist_id              \u001b[90m           \u001b[0m 0275i1VNfBnsNbPl0QIBpG            \u001b[90m            \u001b[0m 7xWuNevFBmwnFEg6wzdCc7                    0  String31\n",
      "  10 │ playlist_genre           \u001b[90m           \u001b[0m edm                               \u001b[90m            \u001b[0m rock                                      0  String7\n",
      "  11 │ playlist_subgenre        \u001b[90m           \u001b[0m album rock                        \u001b[90m            \u001b[0m urban contemporary                        0  String31\n",
      "  12 │ danceability              0.65485    0.0                                0.672       0.983                                     0  Float64\n",
      "  13 │ energy                    0.698619   0.000175                           0.721       1.0                                       0  Float64\n",
      "  14 │ key                       5.37447    0                                  6.0         11                                        0  Int64\n",
      "  15 │ loudness                  -6.7195    -46.448                            -6.166      1.275                                     0  Float64\n",
      "  16 │ mode                      0.565711   0                                  1.0         1                                         0  Int64\n",
      "  17 │ speechiness               0.107068   0.0                                0.0625      0.918                                     0  Float64\n",
      "  18 │ acousticness              0.175334   0.0                                0.0804      0.994                                     0  Float64\n",
      "  19 │ instrumentalness          0.0847472  0.0                                1.61e-5     0.994                                     0  Float64\n",
      "  20 │ liveness                  0.190176   0.0                                0.127       0.996                                     0  Float64\n",
      "  21 │ valence                   0.510561   0.0                                0.512       0.991                                     0  Float64\n",
      "  22 │ tempo                     120.881    0.0                                121.984     239.44                                    0  Float64\n",
      "  23 │ duration_ms               2.258e5    4000                               216000.0    517810                                    0  Int64\n"
     ]
    }
   ],
   "source": [
    "# Load the CSV file into a DataFrame\n",
    "df = CSV.read(\"spotify_songs.csv\", DataFrame)\n",
    "\n",
    "# Inspect the data\n",
    "println(first(df, 10))     # First 5 rows\n",
    "println(size(df))         # Dimensions (rows, columns)\n",
    "println(names(df))        # Column names\n",
    "println(describe(df))     # Summary statistics"
   ]
  },
  {
   "cell_type": "markdown",
   "metadata": {},
   "source": [
    "## Preprocess Data"
   ]
  },
  {
   "cell_type": "code",
   "execution_count": 16,
   "metadata": {},
   "outputs": [
    {
     "ename": "MethodError",
     "evalue": "MethodError: no method matching tryparse(::Type{Date}, ::Date, ::DateFormat{Symbol(\"yyyy-mm-dd\"), Tuple{Dates.DatePart{'y'}, Dates.Delim{Char, 1}, Dates.DatePart{'m'}, Dates.Delim{Char, 1}, Dates.DatePart{'d'}}})\n\nClosest candidates are:\n  tryparse(!Matched::Type{Union{}}, ::Any...; kwargs...)\n   @ Base parse.jl:257\n  tryparse(::Type{T}, !Matched::AbstractString, ::DateFormat) where T<:TimeType\n   @ Dates C:\\Users\\User\\.julia\\juliaup\\julia-1.10.5+0.x64.w64.mingw32\\share\\julia\\stdlib\\v1.10\\Dates\\src\\parse.jl:290\n  tryparse(::Type{T}, !Matched::AbstractString) where T<:TimeType\n   @ Dates C:\\Users\\User\\.julia\\juliaup\\julia-1.10.5+0.x64.w64.mingw32\\share\\julia\\stdlib\\v1.10\\Dates\\src\\parse.jl:290\n",
     "output_type": "error",
     "traceback": [
      "MethodError: no method matching tryparse(::Type{Date}, ::Date, ::DateFormat{Symbol(\"yyyy-mm-dd\"), Tuple{Dates.DatePart{'y'}, Dates.Delim{Char, 1}, Dates.DatePart{'m'}, Dates.Delim{Char, 1}, Dates.DatePart{'d'}}})\n",
      "\n",
      "Closest candidates are:\n",
      "  tryparse(!Matched::Type{Union{}}, ::Any...; kwargs...)\n",
      "   @ Base parse.jl:257\n",
      "  tryparse(::Type{T}, !Matched::AbstractString, ::DateFormat) where T<:TimeType\n",
      "   @ Dates C:\\Users\\User\\.julia\\juliaup\\julia-1.10.5+0.x64.w64.mingw32\\share\\julia\\stdlib\\v1.10\\Dates\\src\\parse.jl:290\n",
      "  tryparse(::Type{T}, !Matched::AbstractString) where T<:TimeType\n",
      "   @ Dates C:\\Users\\User\\.julia\\juliaup\\julia-1.10.5+0.x64.w64.mingw32\\share\\julia\\stdlib\\v1.10\\Dates\\src\\parse.jl:290\n",
      "\n",
      "\n",
      "Stacktrace:\n",
      " [1] (::var\"#19#20\")(x::Date)\n",
      "   @ Main c:\\Users\\User\\Documents\\Sci Comp and Visual\\SpotifyFinal\\jl_notebook_cell_df34fa98e69747e1a8f8a730347b8e2f_X14sZmlsZQ==.jl:5\n",
      " [2] iterate\n",
      "   @ .\\generator.jl:47 [inlined]\n",
      " [3] _collect\n",
      "   @ .\\array.jl:854 [inlined]\n",
      " [4] collect_similar(cont::Vector{Date}, itr::Base.Generator{Vector{Date}, var\"#19#20\"})\n",
      "   @ Base .\\array.jl:763\n",
      " [5] map(f::Function, A::Vector{Date})\n",
      "   @ Base .\\abstractarray.jl:3285\n",
      " [6] top-level scope\n",
      "   @ c:\\Users\\User\\Documents\\Sci Comp and Visual\\SpotifyFinal\\jl_notebook_cell_df34fa98e69747e1a8f8a730347b8e2f_X14sZmlsZQ==.jl:4"
     ]
    }
   ],
   "source": [
    "using Dates, DataFrames\n",
    "\n",
    "# Assume `df` is your DataFrame and `track_album_release_date` contains the dates\n",
    "df[!, :Year] = map(x -> begin\n",
    "    parsed_date = tryparse(Date, x, dateformat\"yyyy-mm-dd\")\n",
    "    isnothing(parsed_date) ? missing : year(parsed_date)\n",
    "end, df.track_album_release_date)"
   ]
  },
  {
   "cell_type": "markdown",
   "metadata": {},
   "source": [
    "## Summary Stats"
   ]
  },
  {
   "cell_type": "code",
   "execution_count": 7,
   "metadata": {},
   "outputs": [],
   "source": []
  },
  {
   "cell_type": "markdown",
   "metadata": {},
   "source": [
    "## Exploratory Data Analysis (Visualizing)"
   ]
  },
  {
   "cell_type": "code",
   "execution_count": null,
   "metadata": {},
   "outputs": [],
   "source": []
  }
 ],
 "metadata": {
  "kernelspec": {
   "display_name": "Julia 1.10.5",
   "language": "julia",
   "name": "julia-1.10"
  },
  "language_info": {
   "file_extension": ".jl",
   "mimetype": "application/julia",
   "name": "julia",
   "version": "1.10.5"
  }
 },
 "nbformat": 4,
 "nbformat_minor": 2
}
